{
 "cells": [
  {
   "cell_type": "code",
   "execution_count": 1,
   "metadata": {
    "collapsed": false
   },
   "outputs": [],
   "source": [
    "# TEST Script\n",
    "from pymongo import MongoClient\n",
    "\n",
    "db_addr='128.199.166.149'\n",
    "# db_addr='localhost'\n",
    "db_port=27340\n",
    "\n",
    "client = MongoClient(db_addr, db_port)\n",
    "# print client.database_names()\n",
    "db = client.test\n",
    "# print db.collection_names()\n"
   ]
  },
  {
   "cell_type": "code",
   "execution_count": null,
   "metadata": {
    "collapsed": true
   },
   "outputs": [],
   "source": [
    "# Removes article which has no field for 'type'. \n",
    "# It is used for only deleteting evernote article or only deleting rss article. \n",
    "\n",
    "articles = db.articles;\n",
    "num = 0\n",
    "for c in articles.find({'type': 1}):    \n",
    "# for c in articles.find({'type': { '$exists' : False }}):    \n",
    "    print c[\"title\"], c['type']\n",
    "    num += 1\n",
    "    if num == 10:\n",
    "        break        \n"
   ]
  },
  {
   "cell_type": "code",
   "execution_count": 32,
   "metadata": {
    "collapsed": false
   },
   "outputs": [
    {
     "data": {
      "text/plain": [
       "{u'electionId': ObjectId('563eabc66b581bec18dd0d9e'),\n",
       " u'lastOp': Timestamp(1446990045, 1),\n",
       " u'n': 1,\n",
       " u'ok': 1}"
      ]
     },
     "execution_count": 32,
     "metadata": {},
     "output_type": "execute_result"
    }
   ],
   "source": [
    "articles.remove({'type' : 1})"
   ]
  },
  {
   "cell_type": "code",
   "execution_count": 18,
   "metadata": {
    "collapsed": false
   },
   "outputs": [
    {
     "data": {
      "text/plain": [
       "<pymongo.results.UpdateResult at 0x4152750>"
      ]
     },
     "execution_count": 18,
     "metadata": {},
     "output_type": "execute_result"
    }
   ],
   "source": [
    "\n",
    "# Add new field for every document in the collection.\n",
    "\n",
    "articles.update_many({'type': { '$exists' : False }},{'$set' : {'type' : 0}})\n"
   ]
  }
 ],
 "metadata": {
  "kernelspec": {
   "display_name": "Python 2",
   "language": "python",
   "name": "python2"
  },
  "language_info": {
   "codemirror_mode": {
    "name": "ipython",
    "version": 2
   },
   "file_extension": ".py",
   "mimetype": "text/x-python",
   "name": "python",
   "nbconvert_exporter": "python",
   "pygments_lexer": "ipython2",
   "version": "2.7.10"
  }
 },
 "nbformat": 4,
 "nbformat_minor": 0
}
