{
 "cells": [
  {
   "cell_type": "code",
   "execution_count": 2,
   "metadata": {
    "collapsed": false
   },
   "outputs": [],
   "source": [
    "# TEST Script\n",
    "from pymongo import MongoClient\n",
    "\n",
    "db_addr='172.16.101.172'\n",
    "# db_addr='localhost'\n",
    "db_port=27340\n",
    "\n",
    "client = MongoClient(db_addr, db_port)\n",
    "# print client.database_names()\n",
    "db = client.test\n",
    "# print db.collection_names()\n",
    "\n"
   ]
  },
  {
   "cell_type": "code",
   "execution_count": null,
   "metadata": {
    "collapsed": true
   },
   "outputs": [],
   "source": [
    "# Remove predicttokens that has no field for 'weekday'\n",
    "\n",
    "collection = db.predicttokens\n",
    "collection.remove({'weekday': { '$exists' : False }})\n",
    "num = 0\n",
    "for c in collection.find({'weekday': { '$exists' : False }}):    \n",
    "    print c['text'], c\n",
    "    num += 1\n",
    "    if num == 10:\n",
    "        break        \n",
    "\n"
   ]
  },
  {
   "cell_type": "code",
   "execution_count": 3,
   "metadata": {
    "collapsed": false
   },
   "outputs": [],
   "source": [
    "# Remove tasks that has no field for 'description'\n",
    "\n",
    "collection = db.tasks\n",
    "collection.remove({'description': { '$exists' : False }})\n",
    "num = 0\n",
    "for c in collection.find({'description': { '$exists' : False }}):    \n",
    "    print c['text'], c\n",
    "    num += 1\n",
    "    if num == 10:\n",
    "        break        \n",
    "\n",
    "num = 0"
   ]
  }
 ],
 "metadata": {
  "kernelspec": {
   "display_name": "Python 2",
   "language": "python",
   "name": "python2"
  },
  "language_info": {
   "codemirror_mode": {
    "name": "ipython",
    "version": 2
   },
   "file_extension": ".py",
   "mimetype": "text/x-python",
   "name": "python",
   "nbconvert_exporter": "python",
   "pygments_lexer": "ipython2",
   "version": "2.7.10"
  }
 },
 "nbformat": 4,
 "nbformat_minor": 0
}
